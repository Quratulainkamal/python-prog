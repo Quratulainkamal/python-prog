{
 "cells": [
  {
   "cell_type": "code",
   "execution_count": 1,
   "id": "028f4e49",
   "metadata": {},
   "outputs": [
    {
     "name": "stdout",
     "output_type": "stream",
     "text": [
      "Enter the First Number = 5\n",
      "Enter the Second Number = 9.5\n",
      "Their Commulative Sum is   14.5\n"
     ]
    }
   ],
   "source": [
    "First_Number = float (input(\"Enter the First Number = \"))\n",
    "Second_Number = float (input(\"Enter the Second Number = \"))\n",
    "Sum = First_Number + Second_Number ; \n",
    "print (\"Their Commulative Sum is\" , \" \", Sum)\n"
   ]
  },
  {
   "cell_type": "code",
   "execution_count": null,
   "id": "2ada0b5e",
   "metadata": {},
   "outputs": [],
   "source": []
  }
 ],
 "metadata": {
  "kernelspec": {
   "display_name": "Python 3 (ipykernel)",
   "language": "python",
   "name": "python3"
  },
  "language_info": {
   "codemirror_mode": {
    "name": "ipython",
    "version": 3
   },
   "file_extension": ".py",
   "mimetype": "text/x-python",
   "name": "python",
   "nbconvert_exporter": "python",
   "pygments_lexer": "ipython3",
   "version": "3.9.7"
  }
 },
 "nbformat": 4,
 "nbformat_minor": 5
}
