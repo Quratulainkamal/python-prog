{
 "cells": [
  {
   "cell_type": "code",
   "execution_count": 3,
   "id": "a1d7ef83",
   "metadata": {},
   "outputs": [
    {
     "name": "stdout",
     "output_type": "stream",
     "text": [
      "The current Date is 29/12/2021.\n",
      "The current Time is 10.00 pm.\n"
     ]
    }
   ],
   "source": [
    "Current_Date= \"29/12/2021\" \n",
    "Current_Time= \"10.00 pm\"\n",
    "print (\"The current Date is \" + Current_Date + \".\")\n",
    "print (\"The current Time is \" + Current_Time + \".\")"
   ]
  },
  {
   "cell_type": "code",
   "execution_count": null,
   "id": "1c9da60c",
   "metadata": {},
   "outputs": [],
   "source": []
  }
 ],
 "metadata": {
  "kernelspec": {
   "display_name": "Python 3 (ipykernel)",
   "language": "python",
   "name": "python3"
  },
  "language_info": {
   "codemirror_mode": {
    "name": "ipython",
    "version": 3
   },
   "file_extension": ".py",
   "mimetype": "text/x-python",
   "name": "python",
   "nbconvert_exporter": "python",
   "pygments_lexer": "ipython3",
   "version": "3.9.7"
  }
 },
 "nbformat": 4,
 "nbformat_minor": 5
}
