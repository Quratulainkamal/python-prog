{
 "cells": [
  {
   "cell_type": "code",
   "execution_count": 1,
   "id": "ac33a7d3",
   "metadata": {},
   "outputs": [
    {
     "name": "stdout",
     "output_type": "stream",
     "text": [
      "Input your First Name = Quratulain\n",
      "Input your Last Name = Kamal\n",
      "Kamal Quratulain\n"
     ]
    }
   ],
   "source": [
    "First_Name = input(\"Input your First Name = \")\n",
    "Last_Name = input(\"Input your Last Name = \")\n",
    "\n",
    "print (Last_Name + \" \" +  First_Name)\n"
   ]
  },
  {
   "cell_type": "code",
   "execution_count": null,
   "id": "31b87363",
   "metadata": {},
   "outputs": [],
   "source": []
  }
 ],
 "metadata": {
  "kernelspec": {
   "display_name": "Python 3 (ipykernel)",
   "language": "python",
   "name": "python3"
  },
  "language_info": {
   "codemirror_mode": {
    "name": "ipython",
    "version": 3
   },
   "file_extension": ".py",
   "mimetype": "text/x-python",
   "name": "python",
   "nbconvert_exporter": "python",
   "pygments_lexer": "ipython3",
   "version": "3.9.7"
  }
 },
 "nbformat": 4,
 "nbformat_minor": 5
}
