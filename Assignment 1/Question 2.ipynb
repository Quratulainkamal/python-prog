{
 "cells": [
  {
   "cell_type": "code",
   "execution_count": 1,
   "id": "325c9caf",
   "metadata": {},
   "outputs": [
    {
     "name": "stdout",
     "output_type": "stream",
     "text": [
      "The python version we are using is 3.9\n"
     ]
    }
   ],
   "source": [
    "Python_version = \"3.9\"\n",
    "print (\"The python version we are using is \" + Python_version)\n"
   ]
  },
  {
   "cell_type": "code",
   "execution_count": null,
   "id": "6f53b0f1",
   "metadata": {},
   "outputs": [],
   "source": []
  }
 ],
 "metadata": {
  "kernelspec": {
   "display_name": "Python 3 (ipykernel)",
   "language": "python",
   "name": "python3"
  },
  "language_info": {
   "codemirror_mode": {
    "name": "ipython",
    "version": 3
   },
   "file_extension": ".py",
   "mimetype": "text/x-python",
   "name": "python",
   "nbconvert_exporter": "python",
   "pygments_lexer": "ipython3",
   "version": "3.9.7"
  }
 },
 "nbformat": 4,
 "nbformat_minor": 5
}
